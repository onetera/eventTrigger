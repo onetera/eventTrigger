{
 "cells": [
  {
   "cell_type": "code",
   "execution_count": 5,
   "metadata": {},
   "outputs": [
    {
     "ename": "ModuleNotFoundError",
     "evalue": "No module named 'shotgun_api3'",
     "output_type": "error",
     "traceback": [
      "\u001b[0;31m---------------------------------------------------------------------------\u001b[0m",
      "\u001b[0;31mModuleNotFoundError\u001b[0m                       Traceback (most recent call last)",
      "\u001b[0;32m<ipython-input-5-2ec524210f18>\u001b[0m in \u001b[0;36m<module>\u001b[0;34m\u001b[0m\n\u001b[0;32m----> 1\u001b[0;31m \u001b[0;32mimport\u001b[0m \u001b[0mshotgun_api3\u001b[0m \u001b[0;32mas\u001b[0m \u001b[0msa\u001b[0m\u001b[0;34m\u001b[0m\u001b[0;34m\u001b[0m\u001b[0m\n\u001b[0m\u001b[1;32m      2\u001b[0m \u001b[0;32mimport\u001b[0m \u001b[0mos\u001b[0m\u001b[0;34m\u001b[0m\u001b[0;34m\u001b[0m\u001b[0m\n\u001b[1;32m      3\u001b[0m \u001b[0;32mimport\u001b[0m \u001b[0mimp\u001b[0m\u001b[0;34m\u001b[0m\u001b[0;34m\u001b[0m\u001b[0m\n\u001b[1;32m      4\u001b[0m \u001b[0;34m\u001b[0m\u001b[0m\n\u001b[1;32m      5\u001b[0m \u001b[0;32mfrom\u001b[0m \u001b[0mpprint\u001b[0m \u001b[0;32mimport\u001b[0m \u001b[0mpprint\u001b[0m\u001b[0;34m\u001b[0m\u001b[0;34m\u001b[0m\u001b[0m\n",
      "\u001b[0;31mModuleNotFoundError\u001b[0m: No module named 'shotgun_api3'"
     ]
    }
   ],
   "source": [
    "import shotgun_api3 as sa\n",
    "import os\n",
    "import imp\n",
    "\n",
    "from pprint import pprint\n",
    "\n",
    "'''\n",
    "Dummy Test\n",
    "    \n",
    "'''\n",
    "\n",
    "def create_seq( project, lev1, script_name = 'utils' ):\n",
    "    key = [ ['name','is',project ] ]\n",
    "    project = sg.find_one( 'Project',filters=key ) \n",
    "    lev1_key = [\n",
    "                ['project','is',project],\n",
    "                ['code','is',lev1],\n",
    "            #    ['sg_prod_type','is',prod_type]\n",
    "               ]\n",
    "    lev1_ent = sg.find_one( 'Sequence', lev1_key )\n",
    "    if lev1_ent:\n",
    "        return lev1_ent\n",
    "        #return 'err.exists'\n",
    "    key = {\n",
    "            'project'       : project,\n",
    "            'code'          : lev1,\n",
    "            #'sg_prod_type'  : prod_type,\n",
    "           }\n",
    "    result = sg.create( 'Sequence', key )\n",
    "    return result\n",
    "\n",
    "print( create_seq( 'RND', 'AAA' , script_name= 'eventTrigger' ) )"
   ]
  },
  {
   "cell_type": "code",
   "execution_count": 6,
   "metadata": {},
   "outputs": [
    {
     "name": "stdout",
     "output_type": "stream",
     "text": [
      "<module 'os' from '/home/w10137/anaconda3/lib/python3.8/os.py'>\n"
     ]
    }
   ],
   "source": [
    "import os\n",
    "print( os)"
   ]
  },
  {
   "cell_type": "code",
   "execution_count": 14,
   "metadata": {
    "scrolled": true
   },
   "outputs": [
    {
     "ename": "Fault",
     "evalue": "API update() CRUD ERROR #5: Update failed for [Task.sg_status_list]: 'csrs' is not a valid status. Valid statuses: 'wtg', 'wip', 'rev', 'ledok', 'csvok', 'svok', 'hold', 'omit', 'retake', 'tpub', 'pub', 'dirok', 'cmpt', 'cntapr', 'tdeli', 'kbk', 'rdy'.",
     "output_type": "error",
     "traceback": [
      "\u001b[0;31m---------------------------------------------------------------------------\u001b[0m",
      "\u001b[0;31mFault\u001b[0m                                     Traceback (most recent call last)",
      "\u001b[0;32m<ipython-input-14-e8a6c64e6381>\u001b[0m in \u001b[0;36m<module>\u001b[0;34m()\u001b[0m\n\u001b[1;32m    124\u001b[0m \u001b[0;34m\u001b[0m\u001b[0m\n\u001b[1;32m    125\u001b[0m \u001b[0;34m\u001b[0m\u001b[0m\n\u001b[0;32m--> 126\u001b[0;31m \u001b[0;32mprint\u001b[0m \u001b[0msync_version_to_task\u001b[0m\u001b[0;34m(\u001b[0m \u001b[0;36m21199229\u001b[0m \u001b[0;34m)\u001b[0m\u001b[0;34m\u001b[0m\u001b[0m\n\u001b[0m\u001b[1;32m    127\u001b[0m \u001b[0;34m\u001b[0m\u001b[0m\n",
      "\u001b[0;32m<ipython-input-14-e8a6c64e6381>\u001b[0m in \u001b[0;36msync_version_to_task\u001b[0;34m(old_id)\u001b[0m\n\u001b[1;32m     97\u001b[0m         updated = sg.update(\n\u001b[1;32m     98\u001b[0m                     \u001b[0;34m'Task'\u001b[0m\u001b[0;34m,\u001b[0m \u001b[0mresult\u001b[0m\u001b[0;34m[\u001b[0m\u001b[0;34m'entity.Version.sg_task'\u001b[0m\u001b[0;34m]\u001b[0m\u001b[0;34m[\u001b[0m\u001b[0;34m'id'\u001b[0m\u001b[0;34m]\u001b[0m\u001b[0;34m,\u001b[0m\u001b[0;34m\u001b[0m\u001b[0m\n\u001b[0;32m---> 99\u001b[0;31m                     \u001b[0;34m{\u001b[0m\u001b[0;34m'sg_status_list'\u001b[0m\u001b[0;34m:\u001b[0m\u001b[0mresult\u001b[0m\u001b[0;34m[\u001b[0m\u001b[0;34m'entity.Version.sg_status_list'\u001b[0m\u001b[0;34m]\u001b[0m \u001b[0;34m}\u001b[0m\u001b[0;34m\u001b[0m\u001b[0m\n\u001b[0m\u001b[1;32m    100\u001b[0m                    )\n\u001b[1;32m    101\u001b[0m         \u001b[0;32mif\u001b[0m \u001b[0mupdated\u001b[0m\u001b[0;34m:\u001b[0m\u001b[0;34m\u001b[0m\u001b[0m\n",
      "\u001b[0;32m/Rnd/anaconda2.main/envs/ohjoo/lib/python2.7/site-packages/shotgun_api3/shotgun.pyc\u001b[0m in \u001b[0;36mupdate\u001b[0;34m(self, entity_type, entity_id, data, multi_entity_update_modes)\u001b[0m\n\u001b[1;32m   1331\u001b[0m                         multi_entity_update_modes, \"multi_entity_update_mode\"))\n\u001b[1;32m   1332\u001b[0m             }\n\u001b[0;32m-> 1333\u001b[0;31m             \u001b[0mrecord\u001b[0m \u001b[0;34m=\u001b[0m \u001b[0mself\u001b[0m\u001b[0;34m.\u001b[0m\u001b[0m_call_rpc\u001b[0m\u001b[0;34m(\u001b[0m\u001b[0;34m\"update\"\u001b[0m\u001b[0;34m,\u001b[0m \u001b[0mparams\u001b[0m\u001b[0;34m)\u001b[0m\u001b[0;34m\u001b[0m\u001b[0m\n\u001b[0m\u001b[1;32m   1334\u001b[0m             \u001b[0mresult\u001b[0m \u001b[0;34m=\u001b[0m \u001b[0mself\u001b[0m\u001b[0;34m.\u001b[0m\u001b[0m_parse_records\u001b[0m\u001b[0;34m(\u001b[0m\u001b[0mrecord\u001b[0m\u001b[0;34m)\u001b[0m\u001b[0;34m[\u001b[0m\u001b[0;36m0\u001b[0m\u001b[0;34m]\u001b[0m\u001b[0;34m\u001b[0m\u001b[0m\n\u001b[1;32m   1335\u001b[0m         \u001b[0;32melse\u001b[0m\u001b[0;34m:\u001b[0m\u001b[0;34m\u001b[0m\u001b[0m\n",
      "\u001b[0;32m/Rnd/anaconda2.main/envs/ohjoo/lib/python2.7/site-packages/shotgun_api3/shotgun.pyc\u001b[0m in \u001b[0;36m_call_rpc\u001b[0;34m(self, method, params, include_auth_params, first)\u001b[0m\n\u001b[1;32m   3184\u001b[0m \u001b[0;34m\u001b[0m\u001b[0m\n\u001b[1;32m   3185\u001b[0m         \u001b[0mresponse\u001b[0m \u001b[0;34m=\u001b[0m \u001b[0mself\u001b[0m\u001b[0;34m.\u001b[0m\u001b[0m_decode_response\u001b[0m\u001b[0;34m(\u001b[0m\u001b[0mresp_headers\u001b[0m\u001b[0;34m,\u001b[0m \u001b[0mbody\u001b[0m\u001b[0;34m)\u001b[0m\u001b[0;34m\u001b[0m\u001b[0m\n\u001b[0;32m-> 3186\u001b[0;31m         \u001b[0mself\u001b[0m\u001b[0;34m.\u001b[0m\u001b[0m_response_errors\u001b[0m\u001b[0;34m(\u001b[0m\u001b[0mresponse\u001b[0m\u001b[0;34m)\u001b[0m\u001b[0;34m\u001b[0m\u001b[0m\n\u001b[0m\u001b[1;32m   3187\u001b[0m         \u001b[0mresponse\u001b[0m \u001b[0;34m=\u001b[0m \u001b[0mself\u001b[0m\u001b[0;34m.\u001b[0m\u001b[0m_transform_inbound\u001b[0m\u001b[0;34m(\u001b[0m\u001b[0mresponse\u001b[0m\u001b[0;34m)\u001b[0m\u001b[0;34m\u001b[0m\u001b[0m\n\u001b[1;32m   3188\u001b[0m \u001b[0;34m\u001b[0m\u001b[0m\n",
      "\u001b[0;32m/Rnd/anaconda2.main/envs/ohjoo/lib/python2.7/site-packages/shotgun_api3/shotgun.pyc\u001b[0m in \u001b[0;36m_response_errors\u001b[0;34m(self, sg_response)\u001b[0m\n\u001b[1;32m   3480\u001b[0m             \u001b[0;32melse\u001b[0m\u001b[0;34m:\u001b[0m\u001b[0;34m\u001b[0m\u001b[0m\n\u001b[1;32m   3481\u001b[0m                 \u001b[0;31m# raise general Fault\u001b[0m\u001b[0;34m\u001b[0m\u001b[0;34m\u001b[0m\u001b[0m\n\u001b[0;32m-> 3482\u001b[0;31m                 \u001b[0;32mraise\u001b[0m \u001b[0mFault\u001b[0m\u001b[0;34m(\u001b[0m\u001b[0msg_response\u001b[0m\u001b[0;34m.\u001b[0m\u001b[0mget\u001b[0m\u001b[0;34m(\u001b[0m\u001b[0;34m\"message\"\u001b[0m\u001b[0;34m,\u001b[0m \u001b[0;34m\"Unknown Error\"\u001b[0m\u001b[0;34m)\u001b[0m\u001b[0;34m)\u001b[0m\u001b[0;34m\u001b[0m\u001b[0m\n\u001b[0m\u001b[1;32m   3483\u001b[0m         \u001b[0;32mreturn\u001b[0m\u001b[0;34m\u001b[0m\u001b[0m\n\u001b[1;32m   3484\u001b[0m \u001b[0;34m\u001b[0m\u001b[0m\n",
      "\u001b[0;31mFault\u001b[0m: API update() CRUD ERROR #5: Update failed for [Task.sg_status_list]: 'csrs' is not a valid status. Valid statuses: 'wtg', 'wip', 'rev', 'ledok', 'csvok', 'svok', 'hold', 'omit', 'retake', 'tpub', 'pub', 'dirok', 'cmpt', 'cntapr', 'tdeli', 'kbk', 'rdy'."
     ]
    }
   ],
   "source": [
    "import shotgun_api3 as sa\n",
    "import os\n",
    "import imp\n",
    "\n",
    "from pprint import pprint\n",
    "\n",
    "sg = sa.Shotgun(\n",
    "    'https://wswg.shotgunstudio.com',\n",
    "    api_key='d4f25676239bff829454edd3a5d97bac13c6d38c526367f9623286c4775ca4dd',\n",
    "    script_name = 'utils',\n",
    ")\n",
    "# if plugin:\n",
    "#     print 'defined plugin'\n",
    "#     del plugin\n",
    "# path = os.path.join( os.getcwd(),'plugins','status_event.py' )\n",
    "# plugin = imp.load_source( 'status_event', path )\n",
    "# print plugin, dir(plugin)\n",
    "\n",
    "# pprint(sg.schema_field_read( 'Shot'))\n",
    "# shots = sg.find_one( 'Shot',[\n",
    "#         ['project.Project.name','is','RND'],\n",
    "#         ['code','is','XXX_0030']],['tasks'])\n",
    "# pprint(shots)\n",
    "\n",
    "filters = [\n",
    "    ['attribute_name','is','sg_status_list'],\n",
    "    ['project.Project.name','not_in',['_Pipeline']],\n",
    "    ['event_type','in',['Shotgun_Shot_Change','Shotgun_Asset_Change'] ],\n",
    "    \n",
    "]\n",
    "filters = [\n",
    "    ['id','is',21199229]\n",
    "]\n",
    "keys = [\n",
    "    'created_at','description', 'entity','project.Project.name','code',\n",
    "    'tasks','meta',\n",
    "]\n",
    "\n",
    "# results = sg.find_one(\n",
    "#     'EventLogEntry', filters , keys\n",
    "# )\n",
    "# # print results\n",
    "# for result in results:\n",
    "#     print result,' : ', results[result]\n",
    "# #     if result['meta']['new_value'] == 'omit':\n",
    "# #         pprint( result)\n",
    "\n",
    "\n",
    "import datetime as dt\n",
    "import time\n",
    "\n",
    "def sync_version_to_task( old_id ):\n",
    "#    if MAIN_ID == old_id:\n",
    "#        print \"Previous ID is same with old id\"\n",
    "#        return\n",
    "\n",
    "    filters = [\n",
    "        ['attribute_name','is','sg_status_list'],\n",
    "        ['event_type','is','Shotgun_Version_Change'],\n",
    "    ]\n",
    "    keys = [\n",
    "        'created_at','description', 'entity','project.Project.name',\n",
    "        'entity.Version.sg_task',\n",
    "        'entity.Version.sg_task.Task.sg_status_list',\n",
    "        'entity.Version.sg_status_list',\n",
    "    ]\n",
    "    if not old_id:\n",
    "        today = dt.datetime(\n",
    "            dt.datetime.now().year,\n",
    "            dt.datetime.now().month,\n",
    "            dt.datetime.now().day,\n",
    "#            dt.datetime.now().hour,\n",
    "#            dt.datetime.now().minute\n",
    "        )\n",
    "        filters.append( ['created_at','greater_than',today] )\n",
    "    else:\n",
    "        filters.append( ['id', 'greater_than', old_id ] )\n",
    "\n",
    "    result = sg.find_one(\n",
    "    #results = sg.find(\n",
    "        'EventLogEntry', filters , keys\n",
    "    )\n",
    "    if not result:\n",
    "        result = {}\n",
    "        result['id'] = old_id\n",
    "        return old_id\n",
    "    #for result in results:\n",
    "    if old_id == result['id']:\n",
    "        print \"Previous ID is same with old id\"\n",
    "        result = {}\n",
    "        result['id'] = old_id\n",
    "        return old_id\n",
    "    # pprint( result )\n",
    "    # print '\\n'\n",
    "\n",
    "    if result and result['entity'] and result['entity.Version.sg_task']:\n",
    "        updated = sg.update(\n",
    "                    'Task', result['entity.Version.sg_task']['id'],\n",
    "                    {'sg_status_list':result['entity.Version.sg_status_list'] }\n",
    "                   )\n",
    "        if updated:\n",
    "            created = result['created_at'].strftime('%Y-%m-%d %H:%M:%S')\n",
    "            print '[Version status update Task status]','*'*50\n",
    "            print '{:15} : {}'.format( 'ID'         , result['id'] )\n",
    "            print '{:15} : {} / {}'.format( 'Project'    , result['project.Project.name'],\n",
    "                                            result['entity']['name']  )\n",
    "            print '{:15} : {}'.format( 'created_at' , created )\n",
    "            print '{:15} : {}'.format( 'Description', result['description'] )\n",
    "            print 'https://wswg.shotgunstudio.com/detail/task/{}'.format( result['entity.Version.sg_task']['id'] )\n",
    "            print '\\n'\n",
    "\n",
    "            return result['id']\n",
    "        else:\n",
    "            print \"[ No Updated ]\"\n",
    "            return result['id']\n",
    "    else:\n",
    "        pprint( result )\n",
    "        print \"entity or Version.sg_task is none type\"\n",
    "        return result['id']\n",
    "\n",
    "\n",
    "\n",
    "\n",
    "\n",
    "\n",
    "print sync_version_to_task( 21199229 )\n",
    "\n"
   ]
  },
  {
   "cell_type": "code",
   "execution_count": 3,
   "metadata": {},
   "outputs": [
    {
     "name": "stdout",
     "output_type": "stream",
     "text": [
      "Person(name='Jhon', age=28, gender='\\xeb\\x82\\xa8')\n"
     ]
    }
   ],
   "source": [
    "import collections\n",
    "from pprint import pprint\n",
    "\n",
    "\n",
    "# namedtuple()\n",
    "Person = collections.namedtuple(\"Person\", 'name age gender')\n",
    "\n",
    "P1 = Person(name='Jhon', age=28, gender='남')\n",
    "pprint( P1 )"
   ]
  },
  {
   "cell_type": "code",
   "execution_count": 35,
   "metadata": {},
   "outputs": [
    {
     "name": "stdout",
     "output_type": "stream",
     "text": [
      "status_event\n"
     ]
    }
   ],
   "source": [
    "import imp\n",
    "\n",
    "class Plugin:\n",
    "    def __init__(self):\n",
    "        self.plugin = imp.load_source( \"status_event\",\"./plugins/status_event.py\")\n",
    "    def __name__(self):\n",
    "        return self.plugin.__name__\n",
    "pl = Plugin()\n",
    "print pl.__name__()\n"
   ]
  }
 ],
 "metadata": {
  "anaconda-cloud": {},
  "kernelspec": {
   "display_name": "Python 3",
   "language": "python",
   "name": "python3"
  },
  "language_info": {
   "codemirror_mode": {
    "name": "ipython",
    "version": 3
   },
   "file_extension": ".py",
   "mimetype": "text/x-python",
   "name": "python",
   "nbconvert_exporter": "python",
   "pygments_lexer": "ipython3",
   "version": "3.8.3"
  }
 },
 "nbformat": 4,
 "nbformat_minor": 1
}
